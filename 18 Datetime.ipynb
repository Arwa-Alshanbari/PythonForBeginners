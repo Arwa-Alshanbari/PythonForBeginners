{
 "cells": [
  {
   "cell_type": "markdown",
   "metadata": {
    "id": "sclfqmLy7YTh"
   },
   "source": [
    "# Date & time\n",
    "It is module/package in python"
   ]
  },
  {
   "cell_type": "code",
   "execution_count": 1,
   "metadata": {
    "id": "9YnH7mMA7YTm"
   },
   "outputs": [],
   "source": [
    "import datetime"
   ]
  },
  {
   "cell_type": "code",
   "execution_count": 2,
   "metadata": {
    "id": "24ccib3Y7YTo"
   },
   "outputs": [],
   "source": [
    "now = datetime.datetime.now()"
   ]
  },
  {
   "cell_type": "code",
   "execution_count": 3,
   "metadata": {
    "id": "UHG8FZzP7YTp"
   },
   "outputs": [],
   "source": [
    "today = datetime.date.today()"
   ]
  },
  {
   "cell_type": "code",
   "execution_count": 4,
   "metadata": {
    "id": "fhPA0sWe7YTq",
    "outputId": "a54e4fee-540f-4dce-b8a4-81eacc40e62f"
   },
   "outputs": [
    {
     "name": "stdout",
     "output_type": "stream",
     "text": [
      "2023-12-14 00:56:23.837455\n",
      "2023-12-14\n"
     ]
    }
   ],
   "source": [
    "print(now)\n",
    "print(today)"
   ]
  },
  {
   "cell_type": "markdown",
   "metadata": {
    "id": "L57k3Y_e7YTt"
   },
   "source": [
    "## datetime -date"
   ]
  },
  {
   "cell_type": "code",
   "execution_count": 5,
   "metadata": {
    "id": "xcswOcQ17YTu"
   },
   "outputs": [],
   "source": [
    "from datetime import date"
   ]
  },
  {
   "cell_type": "code",
   "execution_count": 6,
   "metadata": {
    "id": "ul8-dWCi7YTw"
   },
   "outputs": [],
   "source": [
    "d = date(2020, 2, 1)"
   ]
  },
  {
   "cell_type": "code",
   "execution_count": 7,
   "metadata": {
    "id": "iWCXbV547YTy",
    "outputId": "c7261277-973e-4e0c-f42b-4615d72a02ba"
   },
   "outputs": [
    {
     "name": "stdout",
     "output_type": "stream",
     "text": [
      "2020-02-01\n"
     ]
    }
   ],
   "source": [
    "print(d)"
   ]
  },
  {
   "cell_type": "code",
   "execution_count": 8,
   "metadata": {
    "id": "LZ7ag58w7YT0"
   },
   "outputs": [],
   "source": [
    "## convert timestamp to readable time\n",
    "## get timestamp: date +%s "
   ]
  },
  {
   "cell_type": "code",
   "execution_count": 9,
   "metadata": {
    "id": "JYPCX8Cp7YT1"
   },
   "outputs": [],
   "source": [
    "timestamp = date.fromtimestamp(1608493629)"
   ]
  },
  {
   "cell_type": "code",
   "execution_count": 10,
   "metadata": {
    "id": "iw_GK7A77YT2",
    "outputId": "d45102c6-a9f0-4801-97a1-7ea8125c20f6"
   },
   "outputs": [
    {
     "name": "stdout",
     "output_type": "stream",
     "text": [
      "2020-12-20\n",
      "Year: 2020\n",
      "Month: 12\n",
      "Today: 20\n"
     ]
    }
   ],
   "source": [
    "print(timestamp)\n",
    "print(f'Year: {timestamp.year}')\n",
    "print(f'Month: {timestamp.month}')\n",
    "print(f'Today: {timestamp.day}')"
   ]
  },
  {
   "cell_type": "markdown",
   "metadata": {
    "id": "N5y3Rkha7YT3"
   },
   "source": [
    "## datetime - time"
   ]
  },
  {
   "cell_type": "code",
   "execution_count": 11,
   "metadata": {
    "id": "35-wuu3v7YT5"
   },
   "outputs": [],
   "source": [
    "from datetime import time "
   ]
  },
  {
   "cell_type": "code",
   "execution_count": 12,
   "metadata": {
    "id": "CpADCOIY7YT6"
   },
   "outputs": [],
   "source": [
    "# you can use key \n",
    "#time = time(23, 17, 30, 345321)\n",
    "time = time(minute=23, hour= 17, second= 30, microsecond=345321)"
   ]
  },
  {
   "cell_type": "code",
   "execution_count": 13,
   "metadata": {
    "id": "jr6_yYwW7YT7",
    "outputId": "44d02511-630d-4b50-cd4a-57ab9f93f7db"
   },
   "outputs": [
    {
     "name": "stdout",
     "output_type": "stream",
     "text": [
      "17:23:30.345321\n",
      "Hour: 17\n",
      "Minute: 23\n",
      "Second: 30\n",
      "Microsecond: 345321\n"
     ]
    }
   ],
   "source": [
    "print(time)\n",
    "print(f'Hour: {time.hour}')\n",
    "print(f'Minute: {time.minute}')\n",
    "print(f'Second: {time.second}')\n",
    "print(f'Microsecond: {time.microsecond}')"
   ]
  },
  {
   "cell_type": "code",
   "execution_count": 14,
   "metadata": {
    "id": "cQN3ymzE7YT7",
    "outputId": "a12b2bd0-cf3a-4eb9-9830-693d4614e5c2"
   },
   "outputs": [
    {
     "name": "stdout",
     "output_type": "stream",
     "text": [
      "00:56:31.848145\n"
     ]
    }
   ],
   "source": [
    "print(datetime.datetime.now().time())"
   ]
  },
  {
   "cell_type": "markdown",
   "metadata": {
    "id": "6CQNBCkF7YT8"
   },
   "source": [
    "## datetime -datetime\n",
    "accept year argument, time is optional<br>\n",
    "also have attributes like: year, hour and accept timestamp"
   ]
  },
  {
   "cell_type": "code",
   "execution_count": 15,
   "metadata": {
    "id": "hWFKWzQ67YT8"
   },
   "outputs": [],
   "source": [
    "from datetime import datetime"
   ]
  },
  {
   "cell_type": "code",
   "execution_count": 16,
   "metadata": {
    "id": "FJqSqZIG7YT9",
    "outputId": "a4a1bbbf-4e0a-4d90-81ed-243b8dc27ce4"
   },
   "outputs": [
    {
     "name": "stdout",
     "output_type": "stream",
     "text": [
      "Hour: 23\n",
      "Year: 2020\n",
      "Month: 12\n",
      "Timestamp: 1608496760.0\n"
     ]
    }
   ],
   "source": [
    "d = datetime(2020, 12, 20, 23, 39, 20)\n",
    "\n",
    "print(f'Hour: {d.hour}')\n",
    "print(f'Year: {d.year}')\n",
    "print(f'Month: {d.month}')\n",
    "print(f'Timestamp: {d.timestamp()}')"
   ]
  },
  {
   "cell_type": "markdown",
   "metadata": {
    "id": "WnBApt8U7YT9"
   },
   "source": [
    "## datetime - tamedelta"
   ]
  },
  {
   "cell_type": "code",
   "execution_count": 17,
   "metadata": {
    "id": "ifmQaprq7YT9"
   },
   "outputs": [],
   "source": [
    "from datetime import date, datetime, time, timedelta"
   ]
  },
  {
   "cell_type": "code",
   "execution_count": 18,
   "metadata": {
    "id": "S76M9W-H7YT-",
    "outputId": "f4cf831f-b37d-42b6-e244-38456485b50d"
   },
   "outputs": [
    {
     "name": "stdout",
     "output_type": "stream",
     "text": [
      "365 days, 0:00:00\n"
     ]
    },
    {
     "data": {
      "text/plain": [
       "datetime.timedelta"
      ]
     },
     "execution_count": 18,
     "metadata": {},
     "output_type": "execute_result"
    }
   ],
   "source": [
    "d1 = date(2000, 10, 30)\n",
    "d2 = date(2001, 10, 30)\n",
    "\n",
    "deff_d = d1 - d2\n",
    "print(abs(deff_d))\n",
    "type(deff_d)"
   ]
  },
  {
   "cell_type": "code",
   "execution_count": 19,
   "metadata": {
    "id": "3rlX_ihn7YT_",
    "outputId": "2b94570d-ca2c-4006-84ea-4f506c2f0466"
   },
   "outputs": [
    {
     "name": "stdout",
     "output_type": "stream",
     "text": [
      "365 days, 1:00:00\n"
     ]
    },
    {
     "data": {
      "text/plain": [
       "datetime.timedelta"
      ]
     },
     "execution_count": 19,
     "metadata": {},
     "output_type": "execute_result"
    }
   ],
   "source": [
    "dt1 = datetime(2000, 10, 30, 22,34,59)\n",
    "dt2 = datetime(2001, 10, 30, 23,34,59)\n",
    "\n",
    "deff_dt = dt1 - dt2\n",
    "print(abs(deff_dt))\n",
    "type(deff_dt)"
   ]
  },
  {
   "cell_type": "code",
   "execution_count": 20,
   "metadata": {
    "id": "7XGpD0ca7YUA",
    "outputId": "40304f3b-53a5-4a8f-ee3f-3f610635ae47"
   },
   "outputs": [
    {
     "ename": "TypeError",
     "evalue": "unsupported operand type(s) for -: 'datetime.time' and 'datetime.time'",
     "output_type": "error",
     "traceback": [
      "\u001b[0;31m---------------------------------------------------------------------------\u001b[0m",
      "\u001b[0;31mTypeError\u001b[0m                                 Traceback (most recent call last)",
      "Cell \u001b[0;32mIn[20], line 5\u001b[0m\n\u001b[1;32m      2\u001b[0m t1 \u001b[38;5;241m=\u001b[39m time(\u001b[38;5;241m22\u001b[39m,\u001b[38;5;241m34\u001b[39m,\u001b[38;5;241m59\u001b[39m)\n\u001b[1;32m      3\u001b[0m t2 \u001b[38;5;241m=\u001b[39m time(\u001b[38;5;241m23\u001b[39m,\u001b[38;5;241m34\u001b[39m,\u001b[38;5;241m59\u001b[39m)\n\u001b[0;32m----> 5\u001b[0m deff_t \u001b[38;5;241m=\u001b[39m t1 \u001b[38;5;241m-\u001b[39m t2\n\u001b[1;32m      6\u001b[0m \u001b[38;5;28mprint\u001b[39m(\u001b[38;5;28mabs\u001b[39m(deff_t))\n\u001b[1;32m      7\u001b[0m \u001b[38;5;28mtype\u001b[39m(deff_t)\n",
      "\u001b[0;31mTypeError\u001b[0m: unsupported operand type(s) for -: 'datetime.time' and 'datetime.time'"
     ]
    }
   ],
   "source": [
    "##TypeError: unsupported operand type(s) for -, use timedelta\n",
    "t1 = time(22,34,59)\n",
    "t2 = time(23,34,59)\n",
    "\n",
    "deff_t = t1 - t2\n",
    "print(abs(deff_t))\n",
    "type(deff_t)"
   ]
  },
  {
   "cell_type": "code",
   "execution_count": 21,
   "metadata": {
    "id": "-08TRi2V7YUB",
    "outputId": "b9bc8985-9320-44a3-a90a-2dfb3346a959"
   },
   "outputs": [
    {
     "name": "stdout",
     "output_type": "stream",
     "text": [
      "770380.0\n",
      "8 days, 21:59:40\n"
     ]
    },
    {
     "data": {
      "text/plain": [
       "datetime.timedelta"
      ]
     },
     "execution_count": 21,
     "metadata": {},
     "output_type": "execute_result"
    }
   ],
   "source": [
    "t1 = timedelta(hours= 23, seconds =20)\n",
    "t2 = timedelta(hours= 21, weeks= 1, days= 2)\n",
    "\n",
    "deff_td = t1 - t2\n",
    "print(abs(deff_td.total_seconds()))\n",
    "print(abs(deff_td))\n",
    "type(deff_td)"
   ]
  },
  {
   "cell_type": "markdown",
   "metadata": {
    "id": "DDGi7Zic7YUC"
   },
   "source": [
    "## datetime - format(style) time"
   ]
  },
  {
   "cell_type": "code",
   "execution_count": 22,
   "metadata": {
    "id": "dA3qFbYR7YUC"
   },
   "outputs": [],
   "source": [
    "from datetime import datetime"
   ]
  },
  {
   "cell_type": "code",
   "execution_count": 23,
   "metadata": {
    "id": "SLDqiFYH7YUD",
    "outputId": "4c81c602-e0ab-4525-fa49-05fc713eee74"
   },
   "outputs": [
    {
     "name": "stdout",
     "output_type": "stream",
     "text": [
      "Thu, 14 December\n"
     ]
    }
   ],
   "source": [
    "now = datetime.now()\n",
    "\n",
    "formated = now.strftime('%a, %d %B')\n",
    "print(formated)"
   ]
  },
  {
   "cell_type": "code",
   "execution_count": 24,
   "metadata": {
    "id": "Y2zrPI117YUD",
    "outputId": "43559e5f-05b7-41fe-f022-68468d39b003"
   },
   "outputs": [
    {
     "name": "stdout",
     "output_type": "stream",
     "text": [
      "Tody is: Thu 14, 2023 December \n"
     ]
    }
   ],
   "source": [
    "formated = \"Tody is: {:%a %d, %Y %B} \"\n",
    "print(formated.format(datetime.now()))"
   ]
  },
  {
   "cell_type": "markdown",
   "metadata": {
    "id": "vC2_Y03Y7YUE"
   },
   "source": [
    "## datetime - parsing"
   ]
  },
  {
   "cell_type": "code",
   "execution_count": 25,
   "metadata": {
    "executionInfo": {
     "elapsed": 363,
     "status": "ok",
     "timestamp": 1628580041948,
     "user": {
      "displayName": "احمد الغامدي",
      "photoUrl": "",
      "userId": "15414614545289853046"
     },
     "user_tz": -180
    },
    "id": "tMX-kYPG7vyW"
   },
   "outputs": [],
   "source": [
    "from datetime import datetime"
   ]
  },
  {
   "cell_type": "code",
   "execution_count": 26,
   "metadata": {
    "colab": {
     "base_uri": "https://localhost:8080/"
    },
    "executionInfo": {
     "elapsed": 7,
     "status": "ok",
     "timestamp": 1628580043358,
     "user": {
      "displayName": "احمد الغامدي",
      "photoUrl": "",
      "userId": "15414614545289853046"
     },
     "user_tz": -180
    },
    "id": "gZT_ZbRn7YUE",
    "outputId": "21571e18-d48f-4e79-b46a-fe4e67219199"
   },
   "outputs": [
    {
     "name": "stdout",
     "output_type": "stream",
     "text": [
      "2018 21 December\n",
      "2018-12-21 00:00:00\n",
      "2018/12/21\n"
     ]
    }
   ],
   "source": [
    "date_str = '2018 21 December'\n",
    "print(date_str)\n",
    "\n",
    "date_object = datetime.strptime(date_str, '%Y %d %B')\n",
    "print(date_object)\n",
    "print(date_object.strftime('%Y/%m/%d'))"
   ]
  }
 ],
 "metadata": {
  "colab": {
   "name": "18 Datetime.ipynb",
   "provenance": []
  },
  "kernelspec": {
   "display_name": "Python 3 (ipykernel)",
   "language": "python",
   "name": "python3"
  },
  "language_info": {
   "codemirror_mode": {
    "name": "ipython",
    "version": 3
   },
   "file_extension": ".py",
   "mimetype": "text/x-python",
   "name": "python",
   "nbconvert_exporter": "python",
   "pygments_lexer": "ipython3",
   "version": "3.11.4"
  }
 },
 "nbformat": 4,
 "nbformat_minor": 1
}
