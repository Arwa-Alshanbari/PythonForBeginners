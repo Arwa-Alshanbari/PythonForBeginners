{
 "cells": [
  {
   "cell_type": "markdown",
   "metadata": {},
   "source": [
    "# Collections module\n",
    "## counter\n",
    "Prints how many time the item appears"
   ]
  },
  {
   "cell_type": "code",
   "execution_count": 1,
   "metadata": {},
   "outputs": [],
   "source": [
    "from collections import Counter"
   ]
  },
  {
   "cell_type": "code",
   "execution_count": 2,
   "metadata": {},
   "outputs": [],
   "source": [
    "my_list = [1,2,3,1,3,2,1,4,4,5,1,5,2,6,7,'a','b','b','c','a','b','c','a']"
   ]
  },
  {
   "cell_type": "code",
   "execution_count": 3,
   "metadata": {},
   "outputs": [],
   "source": [
    "my_dict= Counter(my_list)"
   ]
  },
  {
   "cell_type": "code",
   "execution_count": 4,
   "metadata": {},
   "outputs": [
    {
     "data": {
      "text/plain": [
       "{1: 4, 2: 3, 3: 2, 4: 2, 5: 2, 6: 1, 7: 1, 'a': 3, 'b': 3, 'c': 2}"
      ]
     },
     "execution_count": 4,
     "metadata": {},
     "output_type": "execute_result"
    }
   ],
   "source": [
    "dict(my_dict)"
   ]
  },
  {
   "cell_type": "code",
   "execution_count": 5,
   "metadata": {},
   "outputs": [
    {
     "name": "stdout",
     "output_type": "stream",
     "text": [
      "The even iteration list: [(1, 4), (3, 2), (4, 2), (5, 2), ('c', 2)]\n",
      "The odd iteration list: [(2, 3), (6, 1), (7, 1), ('a', 3), ('b', 3)]\n"
     ]
    }
   ],
   "source": [
    "even_list= []\n",
    "odd_list= []\n",
    "\n",
    "def new_list():\n",
    "    for element in dict(my_dict).items():\n",
    "    \n",
    "        if element[1]%2==0:\n",
    "            even_list.append(element)\n",
    "            #print(element)\n",
    "        if element[1]%2!=0:\n",
    "            odd_list.append(element)\n",
    "            #print(element)\n",
    "\n",
    "new_list()            \n",
    "print(f'The even iteration list: {even_list}')\n",
    "print(f'The odd iteration list: {odd_list}')"
   ]
  },
  {
   "cell_type": "markdown",
   "metadata": {},
   "source": [
    "## counter with string analyse"
   ]
  },
  {
   "cell_type": "code",
   "execution_count": 7,
   "metadata": {},
   "outputs": [],
   "source": [
    "p = '''Python is a general-purpose programming language in a similar vein to other programming languages \n",
    "that you might have heard of such as C++, JavaScript or Microsoft\\'s C# and Oracle\\'s Java . \n",
    "It has been around for some considerable time having been originally conceived back in the 1980s by \n",
    "Guido van Rossum at Centrum Wiskunde & Informatica (CWI) in the Netherlands . \n",
    "The language is named after one of Guido’s favourite programs “Monty Pythons Flying Circus”, a classic \n",
    "and somewhat anarchic British comedy sketch show originally running from 1969 to 1974 \n",
    "(but which has been rerun on various stations ever since) and with several film spin offs . \n",
    "You will even find various references to this show in the documentation available with Python .'''"
   ]
  },
  {
   "cell_type": "code",
   "execution_count": 8,
   "metadata": {},
   "outputs": [
    {
     "data": {
      "text/plain": [
       "\"Python is a general-purpose programming language in a similar vein to other programming languages \\nthat you might have heard of such as C++, JavaScript or Microsoft's C# and Oracle's Java . \\nIt has been around for some considerable time having been originally conceived back in the 1980s by \\nGuido van Rossum at Centrum Wiskunde & Informatica (CWI) in the Netherlands . \\nThe language is named after one of Guido’s favourite programs “Monty Pythons Flying Circus”, a classic \\nand somewhat anarchic British comedy sketch show originally running from 1969 to 1974 \\n(but which has been rerun on various stations ever since) and with several film spin offs . \\nYou will even find various references to this show in the documentation available with Python .\""
      ]
     },
     "execution_count": 8,
     "metadata": {},
     "output_type": "execute_result"
    }
   ],
   "source": [
    "p"
   ]
  },
  {
   "cell_type": "code",
   "execution_count": 9,
   "metadata": {},
   "outputs": [
    {
     "data": {
      "text/plain": [
       "Counter({'Python': 2,\n",
       "         'is': 2,\n",
       "         'a': 3,\n",
       "         'general-purpose': 1,\n",
       "         'programming': 2,\n",
       "         'language': 2,\n",
       "         'in': 4,\n",
       "         'similar': 1,\n",
       "         'vein': 1,\n",
       "         'to': 3,\n",
       "         'other': 1,\n",
       "         'languages': 1,\n",
       "         'that': 1,\n",
       "         'you': 1,\n",
       "         'might': 1,\n",
       "         'have': 1,\n",
       "         'heard': 1,\n",
       "         'of': 2,\n",
       "         'such': 1,\n",
       "         'as': 1,\n",
       "         'C++,': 1,\n",
       "         'JavaScript': 1,\n",
       "         'or': 1,\n",
       "         \"Microsoft's\": 1,\n",
       "         'C#': 1,\n",
       "         'and': 3,\n",
       "         \"Oracle's\": 1,\n",
       "         'Java': 1,\n",
       "         '.': 4,\n",
       "         'It': 1,\n",
       "         'has': 2,\n",
       "         'been': 3,\n",
       "         'around': 1,\n",
       "         'for': 1,\n",
       "         'some': 1,\n",
       "         'considerable': 1,\n",
       "         'time': 1,\n",
       "         'having': 1,\n",
       "         'originally': 2,\n",
       "         'conceived': 1,\n",
       "         'back': 1,\n",
       "         'the': 3,\n",
       "         '1980s': 1,\n",
       "         'by': 1,\n",
       "         'Guido': 1,\n",
       "         'van': 1,\n",
       "         'Rossum': 1,\n",
       "         'at': 1,\n",
       "         'Centrum': 1,\n",
       "         'Wiskunde': 1,\n",
       "         '&': 1,\n",
       "         'Informatica': 1,\n",
       "         '(CWI)': 1,\n",
       "         'Netherlands': 1,\n",
       "         'The': 1,\n",
       "         'named': 1,\n",
       "         'after': 1,\n",
       "         'one': 1,\n",
       "         'Guido’s': 1,\n",
       "         'favourite': 1,\n",
       "         'programs': 1,\n",
       "         '“Monty': 1,\n",
       "         'Pythons': 1,\n",
       "         'Flying': 1,\n",
       "         'Circus”,': 1,\n",
       "         'classic': 1,\n",
       "         'somewhat': 1,\n",
       "         'anarchic': 1,\n",
       "         'British': 1,\n",
       "         'comedy': 1,\n",
       "         'sketch': 1,\n",
       "         'show': 2,\n",
       "         'running': 1,\n",
       "         'from': 1,\n",
       "         '1969': 1,\n",
       "         '1974': 1,\n",
       "         '(but': 1,\n",
       "         'which': 1,\n",
       "         'rerun': 1,\n",
       "         'on': 1,\n",
       "         'various': 2,\n",
       "         'stations': 1,\n",
       "         'ever': 1,\n",
       "         'since)': 1,\n",
       "         'with': 2,\n",
       "         'several': 1,\n",
       "         'film': 1,\n",
       "         'spin': 1,\n",
       "         'offs': 1,\n",
       "         'You': 1,\n",
       "         'will': 1,\n",
       "         'even': 1,\n",
       "         'find': 1,\n",
       "         'references': 1,\n",
       "         'this': 1,\n",
       "         'documentation': 1,\n",
       "         'available': 1})"
      ]
     },
     "execution_count": 9,
     "metadata": {},
     "output_type": "execute_result"
    }
   ],
   "source": [
    "Counter(p.split())"
   ]
  },
  {
   "cell_type": "markdown",
   "metadata": {},
   "source": [
    "## counter with most_common\n",
    "return list"
   ]
  },
  {
   "cell_type": "code",
   "execution_count": 10,
   "metadata": {},
   "outputs": [],
   "source": [
    "most_common_word = Counter(p.split()).most_common(50)"
   ]
  },
  {
   "cell_type": "code",
   "execution_count": 11,
   "metadata": {},
   "outputs": [
    {
     "data": {
      "text/plain": [
       "('in', 4)"
      ]
     },
     "execution_count": 11,
     "metadata": {},
     "output_type": "execute_result"
    }
   ],
   "source": [
    "most_common_word[0]"
   ]
  },
  {
   "cell_type": "markdown",
   "metadata": {},
   "source": [
    "## collections defaultdict\n",
    "If I want add new key in dict by default, that helps to:<br>\n",
    "avoid keyError <br>\n",
    "add value by defult"
   ]
  },
  {
   "cell_type": "code",
   "execution_count": 12,
   "metadata": {},
   "outputs": [],
   "source": [
    "from collections import defaultdict"
   ]
  },
  {
   "cell_type": "code",
   "execution_count": 13,
   "metadata": {},
   "outputs": [],
   "source": [
    "dic = {'name': 'Ali', 'age': 33}"
   ]
  },
  {
   "cell_type": "code",
   "execution_count": 14,
   "metadata": {},
   "outputs": [],
   "source": [
    "# add value by type\n",
    "dic = defaultdict(str)\n",
    "dic['name']= 'Ali'\n",
    "dic['age']= 33"
   ]
  },
  {
   "cell_type": "code",
   "execution_count": 15,
   "metadata": {},
   "outputs": [
    {
     "data": {
      "text/plain": [
       "''"
      ]
     },
     "execution_count": 15,
     "metadata": {},
     "output_type": "execute_result"
    }
   ],
   "source": [
    "dic['geder']"
   ]
  },
  {
   "cell_type": "code",
   "execution_count": 16,
   "metadata": {},
   "outputs": [],
   "source": [
    "# add value by lambda\n",
    "dic = defaultdict(lambda :'None')\n",
    "dic['name']= 'Ali'\n",
    "dic['age']= 33"
   ]
  },
  {
   "cell_type": "code",
   "execution_count": 17,
   "metadata": {},
   "outputs": [
    {
     "data": {
      "text/plain": [
       "'None'"
      ]
     },
     "execution_count": 17,
     "metadata": {},
     "output_type": "execute_result"
    }
   ],
   "source": [
    "dic['geder']"
   ]
  },
  {
   "cell_type": "code",
   "execution_count": 18,
   "metadata": {},
   "outputs": [],
   "source": [
    "# add value by function\n",
    "def default_fun():\n",
    "    return 'None'\n",
    "\n",
    "dic = defaultdict(default_fun)\n",
    "dic['name']= 'Ali'\n",
    "dic['age']= 33"
   ]
  },
  {
   "cell_type": "code",
   "execution_count": 19,
   "metadata": {},
   "outputs": [
    {
     "data": {
      "text/plain": [
       "'None'"
      ]
     },
     "execution_count": 19,
     "metadata": {},
     "output_type": "execute_result"
    }
   ],
   "source": [
    "dic['geder']"
   ]
  },
  {
   "cell_type": "markdown",
   "metadata": {},
   "source": [
    "## namedtuples\n",
    "assign meaning to each position in a tuple and allow for more readable,"
   ]
  },
  {
   "cell_type": "code",
   "execution_count": 20,
   "metadata": {},
   "outputs": [],
   "source": [
    "from collections import namedtuple"
   ]
  },
  {
   "cell_type": "code",
   "execution_count": 21,
   "metadata": {},
   "outputs": [],
   "source": [
    "my_tuple = namedtuple('Staff', 'name age department')"
   ]
  },
  {
   "cell_type": "code",
   "execution_count": 22,
   "metadata": {},
   "outputs": [],
   "source": [
    "staff = my_tuple('Arwa', 22, 'IT')"
   ]
  },
  {
   "cell_type": "code",
   "execution_count": 23,
   "metadata": {},
   "outputs": [
    {
     "data": {
      "text/plain": [
       "Staff(name='Arwa', age=22, department='IT')"
      ]
     },
     "execution_count": 23,
     "metadata": {},
     "output_type": "execute_result"
    }
   ],
   "source": [
    "staff"
   ]
  },
  {
   "cell_type": "code",
   "execution_count": 24,
   "metadata": {},
   "outputs": [
    {
     "data": {
      "text/plain": [
       "'Arwa'"
      ]
     },
     "execution_count": 24,
     "metadata": {},
     "output_type": "execute_result"
    }
   ],
   "source": [
    "staff.name"
   ]
  },
  {
   "cell_type": "code",
   "execution_count": 25,
   "metadata": {},
   "outputs": [
    {
     "data": {
      "text/plain": [
       "22"
      ]
     },
     "execution_count": 25,
     "metadata": {},
     "output_type": "execute_result"
    }
   ],
   "source": [
    "staff[1]"
   ]
  },
  {
   "cell_type": "code",
   "execution_count": 26,
   "metadata": {},
   "outputs": [],
   "source": [
    "Point = namedtuple('Point', ['x', 'y'])"
   ]
  },
  {
   "cell_type": "code",
   "execution_count": 27,
   "metadata": {},
   "outputs": [],
   "source": [
    "p = Point(11, 22)"
   ]
  },
  {
   "cell_type": "code",
   "execution_count": 28,
   "metadata": {},
   "outputs": [
    {
     "data": {
      "text/plain": [
       "33"
      ]
     },
     "execution_count": 28,
     "metadata": {},
     "output_type": "execute_result"
    }
   ],
   "source": [
    "p.x + p.y"
   ]
  },
  {
   "cell_type": "code",
   "execution_count": 29,
   "metadata": {},
   "outputs": [],
   "source": [
    "# unpack like a regular tuple\n",
    "# or can Point(x=11, y=22)\n",
    "x, y = p"
   ]
  },
  {
   "cell_type": "code",
   "execution_count": 30,
   "metadata": {},
   "outputs": [
    {
     "data": {
      "text/plain": [
       "(11, 22)"
      ]
     },
     "execution_count": 30,
     "metadata": {},
     "output_type": "execute_result"
    }
   ],
   "source": [
    "x, y"
   ]
  }
 ],
 "metadata": {
  "kernelspec": {
   "display_name": "Python 3 (ipykernel)",
   "language": "python",
   "name": "python3"
  },
  "language_info": {
   "codemirror_mode": {
    "name": "ipython",
    "version": 3
   },
   "file_extension": ".py",
   "mimetype": "text/x-python",
   "name": "python",
   "nbconvert_exporter": "python",
   "pygments_lexer": "ipython3",
   "version": "3.11.4"
  }
 },
 "nbformat": 4,
 "nbformat_minor": 4
}
