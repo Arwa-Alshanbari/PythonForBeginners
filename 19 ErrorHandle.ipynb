{
 "cells": [
  {
   "cell_type": "markdown",
   "metadata": {
    "id": "EExIvusP1aqh"
   },
   "source": [
    "# Error handle"
   ]
  },
  {
   "cell_type": "markdown",
   "metadata": {
    "id": "-tXKiLNb1aqj"
   },
   "source": [
    "## try - except\n",
    "If you added into the script, the program will complete the process without stop the app"
   ]
  },
  {
   "cell_type": "code",
   "execution_count": 1,
   "metadata": {
    "id": "3HOEbzyI1aqk",
    "outputId": "faf1648d-981f-49d1-ba76-e022286ff30f"
   },
   "outputs": [
    {
     "name": "stdout",
     "output_type": "stream",
     "text": [
      "2\n",
      "The program completed\n"
     ]
    }
   ],
   "source": [
    "def error_handle():\n",
    "    try:\n",
    "        #result = 1 + \"1\"\n",
    "        result = 1 + 1\n",
    "    except:\n",
    "        print(\"Operation error\")\n",
    "    else:\n",
    "        print(result)\n",
    "        print(\"The program completed\")\n",
    "        \n",
    "result = 0\n",
    "error_handle()"
   ]
  },
  {
   "cell_type": "markdown",
   "metadata": {
    "id": "gJcJ6dvz1aql"
   },
   "source": [
    "## type of exceptions"
   ]
  },
  {
   "cell_type": "code",
   "execution_count": 2,
   "metadata": {
    "id": "tPqbjb-01aql",
    "outputId": "cd054b93-80fb-43e5-e8d6-80da1a8ce843"
   },
   "outputs": [
    {
     "name": "stdout",
     "output_type": "stream",
     "text": [
      "2\n",
      "The program completed\n"
     ]
    }
   ],
   "source": [
    "def error_handle():\n",
    "    try:\n",
    "        #result = 1 + \"1\"\n",
    "        #result = 1 + num\n",
    "        result = 1 + 1\n",
    "        \n",
    "    except TypeError:\n",
    "        print(\"TypeError:  You maust add an integer\")\n",
    "        \n",
    "    except NameError:\n",
    "        print(\"NameError:  some variable is not defined\")\n",
    "        \n",
    "    #Best practise add except last program\n",
    "    except:\n",
    "        print(\"some error happend\")\n",
    "        \n",
    "    else:\n",
    "        print(result)\n",
    "        print(\"The program completed\")\n",
    "        \n",
    "num = '1'        \n",
    "error_handle()"
   ]
  },
  {
   "cell_type": "markdown",
   "metadata": {
    "id": "Sgpqrauo1aql"
   },
   "source": [
    "## finally\n",
    "else: work when the program doesn't have an error<br>\n",
    "except: work when the program has error<br>\n",
    "finally: work if the program has/doesn't have an error"
   ]
  },
  {
   "cell_type": "code",
   "execution_count": 3,
   "metadata": {
    "colab": {
     "base_uri": "https://localhost:8080/"
    },
    "executionInfo": {
     "elapsed": 8,
     "status": "ok",
     "timestamp": 1629015060786,
     "user": {
      "displayName": "احمد الغامدي",
      "photoUrl": "",
      "userId": "15414614545289853046"
     },
     "user_tz": -180
    },
    "id": "epFCskny1aqm",
    "outputId": "52650ee0-862b-43c0-903b-a50e541ae92f"
   },
   "outputs": [
    {
     "name": "stdout",
     "output_type": "stream",
     "text": [
      "Some error happend\n",
      "The program completed\n"
     ]
    }
   ],
   "source": [
    "def error_handle():\n",
    "    try:\n",
    "        #result = 1/0\n",
    "        result = 1/ num\n",
    "           \n",
    "    except ZeroDivisionError:\n",
    "        print(\"ZeroDivisionError: Can't division by zero\")\n",
    "        \n",
    "    except NameError as name:\n",
    "        print(name)\n",
    "        \n",
    "    except:\n",
    "        print(\"Some error happend\")\n",
    "        \n",
    "    else:\n",
    "        print(result)\n",
    "        \n",
    "    finally:\n",
    "        print(\"The program completed\")\n",
    "        \n",
    "#num = '1'        \n",
    "error_handle()"
   ]
  },
  {
   "cell_type": "code",
   "execution_count": 4,
   "metadata": {
    "id": "b3QPA5iq1aqm",
    "outputId": "13f4419f-f78d-48e3-d882-213bea753629"
   },
   "outputs": [
    {
     "name": "stdout",
     "output_type": "stream",
     "text": [
      "division by zero\n",
      "The program completed\n"
     ]
    }
   ],
   "source": [
    "def try_except(x,y):\n",
    "    result = x/y\n",
    "    print(result)\n",
    "\n",
    "try:\n",
    "    try_except(10,0)\n",
    "    \n",
    "except ZeroDivisionError as ex:\n",
    "    print(ex)\n",
    "    #print(\"ZeroDivisionError: Can't division by zero\")\n",
    "        \n",
    "except:\n",
    "    print(\"Some error happend\")\n",
    "        \n",
    "finally:\n",
    "    print(\"The program completed\")   "
   ]
  },
  {
   "cell_type": "code",
   "execution_count": 5,
   "metadata": {
    "id": "MajlcIfu1aqn",
    "outputId": "2aee48fc-1c7e-47d9-c050-0ae61fdf106f"
   },
   "outputs": [
    {
     "name": "stdout",
     "output_type": "stream",
     "text": [
      "Starting\n",
      "Before my_function\n",
      "my_function in\n",
      "oops\n",
      "Done\n"
     ]
    }
   ],
   "source": [
    "def my_function(x, y): \n",
    "    print('my_function in') \n",
    "    result = x / y \n",
    "    print('my_function out', result) \n",
    "    return result\n",
    "\n",
    "print('Starting')\n",
    "\n",
    "try:\n",
    "    print('Before my_function') \n",
    "    my_function(6, 0) \n",
    "    print('After my_function')\n",
    "    \n",
    "except ZeroDivisionError as exp: \n",
    "    print('oops')\n",
    "    \n",
    "print('Done')"
   ]
  },
  {
   "cell_type": "code",
   "execution_count": 6,
   "metadata": {
    "executionInfo": {
     "elapsed": 4,
     "status": "ok",
     "timestamp": 1629015228572,
     "user": {
      "displayName": "احمد الغامدي",
      "photoUrl": "",
      "userId": "15414614545289853046"
     },
     "user_tz": -180
    },
    "id": "nxFaNHq81aqo"
   },
   "outputs": [],
   "source": [
    "x = 1\n",
    "def raise_func():\n",
    "    if not type(x) is int:\n",
    "        raise Exception(\"Only integers are allowed\")\n",
    "\n",
    "try: \n",
    "    raise_func()\n",
    "except Exception as ve: \n",
    "    print(ve)"
   ]
  }
 ],
 "metadata": {
  "colab": {
   "name": "19 ErrorHandle.ipynb",
   "provenance": []
  },
  "kernelspec": {
   "display_name": "Python 3 (ipykernel)",
   "language": "python",
   "name": "python3"
  },
  "language_info": {
   "codemirror_mode": {
    "name": "ipython",
    "version": 3
   },
   "file_extension": ".py",
   "mimetype": "text/x-python",
   "name": "python",
   "nbconvert_exporter": "python",
   "pygments_lexer": "ipython3",
   "version": "3.11.4"
  }
 },
 "nbformat": 4,
 "nbformat_minor": 1
}
