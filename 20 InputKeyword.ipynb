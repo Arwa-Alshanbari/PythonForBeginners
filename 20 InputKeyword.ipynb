{
 "cells": [
  {
   "cell_type": "markdown",
   "metadata": {},
   "source": [
    "# Exercise "
   ]
  },
  {
   "cell_type": "code",
   "execution_count": 2,
   "metadata": {},
   "outputs": [
    {
     "name": "stdout",
     "output_type": "stream",
     "text": [
      "Enter your name please: Jana\n",
      "Enter the year of birth please: 2000\n",
      "Welcome Jana, your age: 23\n"
     ]
    }
   ],
   "source": [
    "from datetime import date\n",
    "def calculate_age():\n",
    "    name = input('Enter your name please: ')\n",
    "    birth = int(input('Enter the year of birth please: '))\n",
    "\n",
    "    current_year = date.today().year\n",
    "\n",
    "    age = current_year - birth\n",
    "    print(f'Welcome {name}, your age: {age}')\n",
    "    \n",
    "    \n",
    "try:    \n",
    "    calculate_age()\n",
    "\n",
    "except ValueError as ex:\n",
    "    print(f'You have error in: {ex}')\n",
    "    \n",
    "except:\n",
    "    print('Enter digit only, without speace ')   "
   ]
  },
  {
   "cell_type": "code",
   "execution_count": 3,
   "metadata": {},
   "outputs": [
    {
     "name": "stdout",
     "output_type": "stream",
     "text": [
      "Enter your name please: Sara\n",
      "Enter the year of birth please: 2001\n",
      "Welcome Sara, your age: 22\n"
     ]
    }
   ],
   "source": [
    "from datetime import date\n",
    "def calculate_age():\n",
    "    name = input('Enter your name please: ')\n",
    "    birth = int(input('Enter the year of birth please: '))    \n",
    "       \n",
    "    current_year = date.today().year\n",
    "    age = current_year - birth\n",
    "    print(f'Welcome {name}, your age: {age}')\n",
    "    \n",
    "is_true = True\n",
    "\n",
    "while (is_true):    \n",
    "    try:    \n",
    "        calculate_age()\n",
    "        is_true = False\n",
    "        \n",
    "    except ValueError as ex:\n",
    "        print(f'You have error in: {ex}')\n",
    "    \n",
    "    except:\n",
    "        print('Enter digit only, without space ')  "
   ]
  },
  {
   "cell_type": "code",
   "execution_count": 4,
   "metadata": {},
   "outputs": [
    {
     "name": "stdout",
     "output_type": "stream",
     "text": [
      "Enter your name please: Jana\n",
      "Enter the year of birth please: 25\n",
      "Welcome Jana, your age: 1998\n"
     ]
    }
   ],
   "source": [
    "from datetime import date\n",
    "\n",
    "name = input('Enter your name please: ')\n",
    "current_year = date.today().year\n",
    "is_true = True  \n",
    "\n",
    "while (is_true):\n",
    "    try: \n",
    "        \n",
    "        birth = int(input('Enter the your age please: '))\n",
    "        age = current_year - birth\n",
    "        print(f'Welcome {name}, you are born: {age}')\n",
    "        is_true = False\n",
    "\n",
    "    except ValueError as ex:\n",
    "        print(f'You have error in: {ex}')\n",
    "        \n",
    "    except:\n",
    "        print('Enter digit only, without space ')   "
   ]
  },
  {
   "cell_type": "code",
   "execution_count": null,
   "metadata": {},
   "outputs": [],
   "source": []
  }
 ],
 "metadata": {
  "kernelspec": {
   "display_name": "Python 3 (ipykernel)",
   "language": "python",
   "name": "python3"
  },
  "language_info": {
   "codemirror_mode": {
    "name": "ipython",
    "version": 3
   },
   "file_extension": ".py",
   "mimetype": "text/x-python",
   "name": "python",
   "nbconvert_exporter": "python",
   "pygments_lexer": "ipython3",
   "version": "3.11.4"
  }
 },
 "nbformat": 4,
 "nbformat_minor": 4
}
